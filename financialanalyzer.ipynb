{
 "cells": [
  {
   "cell_type": "code",
   "execution_count": 6,
   "id": "360d3d16",
   "metadata": {},
   "outputs": [],
   "source": [
    "import csv\n",
    "from datetime import datetime\n",
    "\n",
    "def load_transactions(filename='financial_transactions.csv'):\n",
    "    \"\"\"Load transactions from a CSV file into a list of dictionaries.\"\"\"\n",
    "    transactions = []\n",
    "\n",
    "    with open(filename) as csvfile:\n",
    "        for line in csvfile:\n",
    "            line = line.replace(\"\\n\", \"\")\n",
    "            parts = line.split(\",\")\n",
    "\n",
    "            print(line)\n",
    "\n",
    "    # Open file with 'with' statement\n",
    "    # Use csv.DictReader\n",
    "    # For each row:\n",
    "    #   Parse date with datetime.strptime\n",
    "    #   Make amount negative for 'debit'\n",
    "    #   Create dictionary with all fields\n",
    "    #   Add to transactions\n",
    "    # Catch FileNotFoundError, ValueError\n",
    "    return transactions"
   ]
  }
 ],
 "metadata": {
  "kernelspec": {
   "display_name": "Python 3",
   "language": "python",
   "name": "python3"
  },
  "language_info": {
   "codemirror_mode": {
    "name": "ipython",
    "version": 3
   },
   "file_extension": ".py",
   "mimetype": "text/x-python",
   "name": "python",
   "nbconvert_exporter": "python",
   "pygments_lexer": "ipython3",
   "version": "3.10.4"
  }
 },
 "nbformat": 4,
 "nbformat_minor": 5
}
